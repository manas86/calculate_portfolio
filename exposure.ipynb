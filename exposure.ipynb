{
 "cells": [
  {
   "cell_type": "markdown",
   "metadata": {},
   "source": [
    "Exposure on portfolio: "
   ]
  },
  {
   "cell_type": "code",
   "execution_count": 25,
   "metadata": {
    "collapsed": true
   },
   "outputs": [],
   "source": [
    "import requests\n",
    "import pandas as pd\n",
    "from bs4 import BeautifulSoup\n",
    "import re"
   ]
  },
  {
   "cell_type": "code",
   "execution_count": 3,
   "metadata": {},
   "outputs": [],
   "source": [
    "root_path = ''\n",
    "weights = pd.read_csv(root_path + '/Users/manassamantaray/Downloads/Portfolio Weights.csv', index_col=0)\n",
    "sector_info = pd.DataFrame()\n",
    "industry_info = pd.DataFrame()"
   ]
  },
  {
   "cell_type": "code",
   "execution_count": 51,
   "metadata": {},
   "outputs": [
    {
     "name": "stdout",
     "output_type": "stream",
     "text": [
      "                        Sector\n",
      "Symbol                        \n",
      "AAPL    Information Technology\n",
      "MMM                Industrials\n",
      "INTC    Information Technology\n",
      "JPM                 Financials\n",
      "DE                 Industrials\n",
      "WFC                 Financials\n",
      "BK                  Financials\n",
      "PM            Consumer Staples\n",
      "HD      Consumer Discretionary\n",
      "GE                 Industrials\n",
      "GOOG    Communication Services\n",
      "MSFT    Information Technology\n",
      "                                       Industry\n",
      "Symbol                                         \n",
      "AAPL    Technology Hardware Storage Peripherals\n",
      "MMM                    Industrial Conglomerates\n",
      "INTC     Semiconductors Semiconductor Equipment\n",
      "JPM                                       Banks\n",
      "DE                                    Machinery\n",
      "WFC                                       Banks\n",
      "BK                              Capital Markets\n",
      "PM                                      Tobacco\n",
      "HD                             Specialty Retail\n",
      "GE                     Industrial Conglomerates\n",
      "GOOG                 Interactive Media Services\n",
      "MSFT                                   Software\n"
     ]
    }
   ],
   "source": [
    "symbols = ['AAPL', 'MMM', 'INTC', 'JPM', 'DE', 'WFC', 'BK', 'PM', 'HD', 'GE', 'GOOG', 'MSFT']\n",
    "for i in range(len(symbols)): \n",
    "    url = 'https://eresearch.fidelity.com/eresearch/goto/evaluate/snapshot.jhtml?symbols=' + symbols[i]\n",
    "    # print(url)\n",
    "    # html_info = requests.get(url).text\n",
    "    \n",
    "    #Web Page\n",
    "    html = requests.get(url).text\n",
    "    \n",
    "    # get sector information\n",
    "    sector_input = html.split('<a href=\"http://eresearch.fidelity.com/eresearch/markets_sectors/sectors/sectors_in_market.jhtml?tab=learn&sector=')[1].split('</a>')[0]\n",
    "    sector = \" \".join(re.findall(\"[a-zA-Z]+\", sector_input))\n",
    "\n",
    "    #get industry information\n",
    "    industry_input = html.split('<a href=\"http://eresearch.fidelity.com/eresearch/markets_sectors/sectors/industries.jhtml?tab=learn&industry=')[1].split('</a>')[0]\n",
    "    industry = \" \".join(re.findall(\"[a-zA-Z]+\", industry_input))\n",
    "    \n",
    "    sector_info = sector_info.append({'Sector': sector, 'Symbol': symbols[i]}, ignore_index=True)   \n",
    "    industry_info = industry_info.append({'Industry': industry, 'Symbol': symbols[i]}, ignore_index=True)\n",
    "\n",
    "# take out NaN\n",
    "sector_info = sector_info[~sector_info['Symbol'].isnull()]\n",
    "sector_info.set_index('Symbol', inplace=True)\n",
    "print(sector_info)\n",
    "industry_info = industry_info[~industry_info['Symbol'].isnull()]\n",
    "industry_info.set_index('Symbol', inplace=True)\n",
    "print(industry_info)\n"
   ]
  },
  {
   "cell_type": "code",
   "execution_count": 48,
   "metadata": {},
   "outputs": [
    {
     "data": {
      "text/html": [
       "<div>\n",
       "<style>\n",
       "    .dataframe thead tr:only-child th {\n",
       "        text-align: right;\n",
       "    }\n",
       "\n",
       "    .dataframe thead th {\n",
       "        text-align: left;\n",
       "    }\n",
       "\n",
       "    .dataframe tbody tr th {\n",
       "        vertical-align: top;\n",
       "    }\n",
       "</style>\n",
       "<table border=\"1\" class=\"dataframe\">\n",
       "  <thead>\n",
       "    <tr style=\"text-align: right;\">\n",
       "      <th></th>\n",
       "      <th>Weight</th>\n",
       "    </tr>\n",
       "    <tr>\n",
       "      <th>Sector</th>\n",
       "      <th></th>\n",
       "    </tr>\n",
       "  </thead>\n",
       "  <tbody>\n",
       "    <tr>\n",
       "      <th>Communication Services</th>\n",
       "      <td>0.470574</td>\n",
       "    </tr>\n",
       "    <tr>\n",
       "      <th>Consumer Discretionary</th>\n",
       "      <td>0.081783</td>\n",
       "    </tr>\n",
       "    <tr>\n",
       "      <th>Consumer Staples</th>\n",
       "      <td>0.045288</td>\n",
       "    </tr>\n",
       "    <tr>\n",
       "      <th>Financials</th>\n",
       "      <td>0.098315</td>\n",
       "    </tr>\n",
       "    <tr>\n",
       "      <th>Industrials</th>\n",
       "      <td>0.159384</td>\n",
       "    </tr>\n",
       "    <tr>\n",
       "      <th>Information Technology</th>\n",
       "      <td>0.144670</td>\n",
       "    </tr>\n",
       "  </tbody>\n",
       "</table>\n",
       "</div>"
      ],
      "text/plain": [
       "                          Weight\n",
       "Sector                          \n",
       "Communication Services  0.470574\n",
       "Consumer Discretionary  0.081783\n",
       "Consumer Staples        0.045288\n",
       "Financials              0.098315\n",
       "Industrials             0.159384\n",
       "Information Technology  0.144670"
      ]
     },
     "execution_count": 48,
     "metadata": {},
     "output_type": "execute_result"
    }
   ],
   "source": [
    "# prepation for sectorial weight\n",
    "sectorial_weight_df = pd.concat([sector_info, weights], axis=1)\n",
    "sectorial_weight_df.columns = [\"Sector\", \"Weight\"]\n",
    "# sectorial_weight_df\n",
    "\n",
    "# Weight per sectors\n",
    "weight_per_sector = sectorial_weight_df.groupby([\"Sector\"]).sum()\n",
    "weight_per_sector.to_csv(root_path+'/Users/manassamantaray/Downloads/Sectoral Weights.csv', index=True)\n",
    "\n"
   ]
  },
  {
   "cell_type": "code",
   "execution_count": 50,
   "metadata": {},
   "outputs": [
    {
     "data": {
      "image/png": "[encoded data removed]",
      "text/plain": [
       "<matplotlib.figure.Figure at 0x11c597470>"
      ]
     },
     "metadata": {},
     "output_type": "display_data"
    }
   ],
   "source": [
    "import matplotlib.pyplot as plt\n",
    "\n",
    "plt.pie(\n",
    "        weight_per_sector[\"Weight\"],\n",
    "        labels=weight_per_sector.index,\n",
    "        shadow=False,\n",
    "        startangle=90,\n",
    "        autopct='%1.1f%%',\n",
    "    )\n",
    "\n",
    "plt.axis('equal')\n",
    "plt.suptitle('Sectoral Weights')\n",
    "plt.show()"
   ]
  },
  {
   "cell_type": "code",
   "execution_count": 57,
   "metadata": {},
   "outputs": [
    {
     "data": {
      "text/html": [
       "<div>\n",
       "<style>\n",
       "    .dataframe thead tr:only-child th {\n",
       "        text-align: right;\n",
       "    }\n",
       "\n",
       "    .dataframe thead th {\n",
       "        text-align: left;\n",
       "    }\n",
       "\n",
       "    .dataframe tbody tr th {\n",
       "        vertical-align: top;\n",
       "    }\n",
       "</style>\n",
       "<table border=\"1\" class=\"dataframe\">\n",
       "  <thead>\n",
       "    <tr style=\"text-align: right;\">\n",
       "      <th></th>\n",
       "      <th>Sector</th>\n",
       "      <th>Industry</th>\n",
       "    </tr>\n",
       "    <tr>\n",
       "      <th>Symbol</th>\n",
       "      <th></th>\n",
       "      <th></th>\n",
       "    </tr>\n",
       "  </thead>\n",
       "  <tbody>\n",
       "    <tr>\n",
       "      <th>AAPL</th>\n",
       "      <td>Information Technology</td>\n",
       "      <td>Technology Hardware Storage Peripherals</td>\n",
       "    </tr>\n",
       "    <tr>\n",
       "      <th>MMM</th>\n",
       "      <td>Industrials</td>\n",
       "      <td>Industrial Conglomerates</td>\n",
       "    </tr>\n",
       "    <tr>\n",
       "      <th>INTC</th>\n",
       "      <td>Information Technology</td>\n",
       "      <td>Semiconductors Semiconductor Equipment</td>\n",
       "    </tr>\n",
       "    <tr>\n",
       "      <th>JPM</th>\n",
       "      <td>Financials</td>\n",
       "      <td>Banks</td>\n",
       "    </tr>\n",
       "    <tr>\n",
       "      <th>DE</th>\n",
       "      <td>Industrials</td>\n",
       "      <td>Machinery</td>\n",
       "    </tr>\n",
       "    <tr>\n",
       "      <th>WFC</th>\n",
       "      <td>Financials</td>\n",
       "      <td>Banks</td>\n",
       "    </tr>\n",
       "    <tr>\n",
       "      <th>BK</th>\n",
       "      <td>Financials</td>\n",
       "      <td>Capital Markets</td>\n",
       "    </tr>\n",
       "    <tr>\n",
       "      <th>PM</th>\n",
       "      <td>Consumer Staples</td>\n",
       "      <td>Tobacco</td>\n",
       "    </tr>\n",
       "    <tr>\n",
       "      <th>HD</th>\n",
       "      <td>Consumer Discretionary</td>\n",
       "      <td>Specialty Retail</td>\n",
       "    </tr>\n",
       "    <tr>\n",
       "      <th>GE</th>\n",
       "      <td>Industrials</td>\n",
       "      <td>Industrial Conglomerates</td>\n",
       "    </tr>\n",
       "    <tr>\n",
       "      <th>GOOG</th>\n",
       "      <td>Communication Services</td>\n",
       "      <td>Interactive Media Services</td>\n",
       "    </tr>\n",
       "    <tr>\n",
       "      <th>MSFT</th>\n",
       "      <td>Information Technology</td>\n",
       "      <td>Software</td>\n",
       "    </tr>\n",
       "  </tbody>\n",
       "</table>\n",
       "</div>"
      ],
      "text/plain": [
       "                        Sector                                 Industry\n",
       "Symbol                                                                 \n",
       "AAPL    Information Technology  Technology Hardware Storage Peripherals\n",
       "MMM                Industrials                 Industrial Conglomerates\n",
       "INTC    Information Technology   Semiconductors Semiconductor Equipment\n",
       "JPM                 Financials                                    Banks\n",
       "DE                 Industrials                                Machinery\n",
       "WFC                 Financials                                    Banks\n",
       "BK                  Financials                          Capital Markets\n",
       "PM            Consumer Staples                                  Tobacco\n",
       "HD      Consumer Discretionary                         Specialty Retail\n",
       "GE                 Industrials                 Industrial Conglomerates\n",
       "GOOG    Communication Services               Interactive Media Services\n",
       "MSFT    Information Technology                                 Software"
      ]
     },
     "execution_count": 57,
     "metadata": {},
     "output_type": "execute_result"
    }
   ],
   "source": [
    "asset_exposure = pd.concat([sector_info, industry_info], axis=1)\n",
    "asset_exposure.to_csv(root_path+'/Users/manassamantaray/Downloads/Asset Exposure.csv', index=True)\n",
    "asset_exposure"
   ]
  },
  {
   "cell_type": "code",
   "execution_count": null,
   "metadata": {
    "collapsed": true
   },
   "outputs": [],
   "source": []
  }
 ],
 "metadata": {
  "kernelspec": {
   "display_name": "Python 3",
   "language": "python",
   "name": "python3"
  },
  "language_info": {
   "codemirror_mode": {
    "name": "ipython",
    "version": 3
   },
   "file_extension": ".py",
   "mimetype": "text/x-python",
   "name": "python",
   "nbconvert_exporter": "python",
   "pygments_lexer": "ipython3",
   "version": "3.6.2"
  }
 },
 "nbformat": 4,
 "nbformat_minor": 2
}
